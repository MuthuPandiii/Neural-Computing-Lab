{
 "cells": [
  {
   "cell_type": "code",
   "execution_count": 2,
   "id": "b147658a-5bf5-4bd3-8dc3-e2ce00ec054c",
   "metadata": {},
   "outputs": [],
   "source": [
    "from sklearn import svm,datasets\n",
    "import matplotlib.pyplot as plt"
   ]
  },
  {
   "cell_type": "code",
   "execution_count": 3,
   "id": "0490c8e6-c44c-4d94-819c-06a95e4a0474",
   "metadata": {},
   "outputs": [
    {
     "name": "stdout",
     "output_type": "stream",
     "text": [
      "dict_keys(['data', 'target', 'frame', 'feature_names', 'target_names', 'images', 'DESCR'])\n"
     ]
    }
   ],
   "source": [
    "digits  = datasets.load_digits()\n",
    "print(digits.keys())"
   ]
  },
  {
   "cell_type": "code",
   "execution_count": 4,
   "id": "f565ee70-c3d1-4c82-b5ff-9e9913f9c096",
   "metadata": {},
   "outputs": [
    {
     "data": {
      "image/png": "[encoded data removed]",
      "text/plain": [
       "<Figure size 1008x504 with 6 Axes>"
      ]
     },
     "metadata": {
      "needs_background": "light"
     },
     "output_type": "display_data"
    }
   ],
   "source": [
    "plt.figure(figsize=(14,7))\n",
    "\n",
    "for i in range(6):\n",
    "    plt.subplot(2,3,i+1)\n",
    "    plt.imshow(digits.images[i],'gray')\n",
    "    plt.title(digits.target[i])"
   ]
  },
  {
   "cell_type": "code",
   "execution_count": 5,
   "id": "4b571660-e257-4553-9519-9fa6f58477e5",
   "metadata": {},
   "outputs": [],
   "source": [
    "from sklearn.model_selection import train_test_split"
   ]
  },
  {
   "cell_type": "code",
   "execution_count": 6,
   "id": "ff096d74-f19b-40f6-9139-667adbd89ab7",
   "metadata": {},
   "outputs": [],
   "source": [
    "data = digits.images.reshape(len(digits.images),-1)"
   ]
  },
  {
   "cell_type": "code",
   "execution_count": 7,
   "id": "c47d9b6b-4565-40d8-b043-8ff63c3aa677",
   "metadata": {},
   "outputs": [],
   "source": [
    "X_train, X_test, y_train, y_test = train_test_split(data,digits.target)\n",
    "\n",
    "SVM = svm.SVC(gamma=0.001)\n",
    "\n",
    "SVM.fit(X_train,y_train)\n",
    "y_pred = SVM.predict(X_test)"
   ]
  },
  {
   "cell_type": "code",
   "execution_count": 8,
   "id": "038b15b6-067e-47ed-8baf-1a41d213d301",
   "metadata": {},
   "outputs": [
    {
     "data": {
      "image/png": "[encoded data removed]",
      "text/plain": [
       "<Figure size 1008x504 with 6 Axes>"
      ]
     },
     "metadata": {
      "needs_background": "light"
     },
     "output_type": "display_data"
    }
   ],
   "source": [
    "plt.figure(figsize=(14,7))\n",
    "\n",
    "for i in range(6):\n",
    "    plt.subplot(2,3,i+1)\n",
    "    plt.imshow(X_test[i].reshape(8,8),'gray')\n",
    "    plt.title(y_pred[i])"
   ]
  },
  {
   "cell_type": "code",
   "execution_count": 9,
   "id": "688135e4-b7a1-4aba-9600-571346f4452c",
   "metadata": {},
   "outputs": [],
   "source": [
    "from sklearn.metrics import confusion_matrix,classification_report"
   ]
  },
  {
   "cell_type": "code",
   "execution_count": 10,
   "id": "4f257b5f-bfe7-4fe4-aaca-7c55ddddd5a9",
   "metadata": {},
   "outputs": [
    {
     "name": "stdout",
     "output_type": "stream",
     "text": [
      "Classification report :\n",
      "               precision    recall  f1-score   support\n",
      "\n",
      "           0       1.00      1.00      1.00        33\n",
      "           1       0.97      1.00      0.99        39\n",
      "           2       1.00      1.00      1.00        36\n",
      "           3       1.00      1.00      1.00        49\n",
      "           4       1.00      0.98      0.99        45\n",
      "           5       0.98      1.00      0.99        51\n",
      "           6       1.00      1.00      1.00        48\n",
      "           7       0.98      0.98      0.98        46\n",
      "           8       0.98      0.98      0.98        53\n",
      "           9       0.98      0.96      0.97        50\n",
      "\n",
      "    accuracy                           0.99       450\n",
      "   macro avg       0.99      0.99      0.99       450\n",
      "weighted avg       0.99      0.99      0.99       450\n",
      "\n",
      "\n",
      "Confusion Matrix : \n",
      " [[33  0  0  0  0  0  0  0  0  0]\n",
      " [ 0 39  0  0  0  0  0  0  0  0]\n",
      " [ 0  0 36  0  0  0  0  0  0  0]\n",
      " [ 0  0  0 49  0  0  0  0  0  0]\n",
      " [ 0  0  0  0 44  0  0  0  1  0]\n",
      " [ 0  0  0  0  0 51  0  0  0  0]\n",
      " [ 0  0  0  0  0  0 48  0  0  0]\n",
      " [ 0  0  0  0  0  0  0 45  0  1]\n",
      " [ 0  1  0  0  0  0  0  0 52  0]\n",
      " [ 0  0  0  0  0  1  0  1  0 48]]\n"
     ]
    }
   ],
   "source": [
    "print('Classification report :\\n',classification_report(y_test,y_pred))\n",
    "print('\\nConfusion Matrix : \\n',confusion_matrix(y_test,y_pred))"
   ]
  },
  {
   "cell_type": "code",
   "execution_count": null,
   "id": "12b35f8b-af8b-4af4-a7ba-371b6be394f1",
   "metadata": {},
   "outputs": [],
   "source": []
  }
 ],
 "metadata": {
  "kernelspec": {
   "display_name": "Python 3",
   "language": "python",
   "name": "python3"
  },
  "language_info": {
   "codemirror_mode": {
    "name": "ipython",
    "version": 3
   },
   "file_extension": ".py",
   "mimetype": "text/x-python",
   "name": "python",
   "nbconvert_exporter": "python",
   "pygments_lexer": "ipython3",
   "version": "3.8.8"
  }
 },
 "nbformat": 4,
 "nbformat_minor": 5
}
