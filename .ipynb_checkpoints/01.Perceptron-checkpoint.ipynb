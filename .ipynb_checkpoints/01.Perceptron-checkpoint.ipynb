{
 "cells": [
  {
   "cell_type": "markdown",
   "id": "405b120b-8ab4-437c-b773-d2383daf05b4",
   "metadata": {},
   "source": [
    "# Perceptron From Scratch"
   ]
  },
  {
   "cell_type": "code",
   "execution_count": 82,
   "id": "853c1a65-f8c3-4e92-b042-892ff71bb3b4",
   "metadata": {},
   "outputs": [],
   "source": [
    "import numpy as np\n",
    "import matplotlib.pyplot as plt"
   ]
  },
  {
   "cell_type": "code",
   "execution_count": 83,
   "id": "c08bc270-68ab-4d61-af50-268c5a139d97",
   "metadata": {},
   "outputs": [],
   "source": [
    "alpha = 1\n",
    "parameters = {\"W1\":0,\"W2\":0,\"b\":0}\n",
    "delta = {\"dW1\":0,\"dW2\":0,\"db\":0}\n",
    "Epoch = 5\n",
    "res = [None] * 4"
   ]
  },
  {
   "cell_type": "code",
   "execution_count": 89,
   "id": "313fbb73-916d-408a-a9ab-f88d9331e7e8",
   "metadata": {},
   "outputs": [],
   "source": [
    "def step_function(y):\n",
    "    if y>=1:\n",
    "        return 1\n",
    "    elif y==0:\n",
    "        return 0\n",
    "    else:\n",
    "        return -1\n",
    "\n",
    "def plot_(X,y):\n",
    "    x1 = np.array([min(X[:,0]),max(X[:,0])])\n",
    "    \n",
    "    m = - (parameters[\"W1\"] / parameters[\"W2\"])\n",
    "    b = - (parameters[\"b\"] / parameters[\"W2\"])\n",
    "    \n",
    "    x2 = m * x1 + b\n",
    "    \n",
    "    a,b = set(y)\n",
    "    \n",
    "    \n",
    "    plt.scatter(X[:,0][y==a],X[:,1][y==a])\n",
    "    plt.scatter(X[:,0][y==b],X[:,1][y==b])\n",
    "    plt.plot(x1,x2)\n",
    "\n",
    "def perceptron(X,T):\n",
    "    error = 0.0\n",
    "    \n",
    "    for i in range(len(X)):\n",
    "        Z = (parameters[\"W1\"]*X[i][0] + parameters[\"W2\"]*X[i][1]) + parameters[\"b\"]\n",
    "        y = step_function(Z)\n",
    "        if y!=T[i]:\n",
    "            \n",
    "            delta[\"dW1\"] = np.float_(alpha * (T[i] - y) * X[i][0])\n",
    "        \n",
    "            delta[\"dW2\"] = np.float_(alpha * (T[i] - y) * X[i][1])\n",
    "            \n",
    "            delta[\"db\"]  = np.float_(alpha * (T[i] - y))\n",
    "       \n",
    "            parameters[\"W1\"]+=delta[\"dW1\"]\n",
    "        \n",
    "            parameters[\"W2\"]+=delta[\"dW2\"]\n",
    "            \n",
    "            parameters[\"b\"] +=delta[\"db\"]\n",
    "    \n",
    "        error += (1/2) * (y - T[i])**2\n",
    "        res[i] = y\n",
    "    print(\"Result     : \",res)\n",
    "    print('Error      : ',error)"
   ]
  },
  {
   "cell_type": "markdown",
   "id": "8a9f6dea-1d89-4259-9c83-3b8fbd25b8a3",
   "metadata": {},
   "source": [
    "# OR Gate Using Binary Input and BiPolar Output"
   ]
  },
  {
   "cell_type": "code",
   "execution_count": 90,
   "id": "08d9d810-70c4-4f8b-90da-2a39aded1dec",
   "metadata": {},
   "outputs": [],
   "source": [
    "X = np.array([[0,0],[0,1],[1,0],[1,1]])\n",
    "T = np.array([-1,1,1,1]) "
   ]
  },
  {
   "cell_type": "code",
   "execution_count": 91,
   "id": "66bc2cb9-f613-4ee7-9d5c-d20e5ea96b67",
   "metadata": {},
   "outputs": [
    {
     "name": "stdout",
     "output_type": "stream",
     "text": [
      "Epoch :  0\n",
      "Result     :  [-1, 1, 1, 1]\n",
      "Error      :  0.0\n",
      "------------------------------------------------------\n",
      "Epoch :  1\n",
      "Result     :  [-1, 1, 1, 1]\n",
      "Error      :  0.0\n",
      "------------------------------------------------------\n",
      "Epoch :  2\n",
      "Result     :  [-1, 1, 1, 1]\n",
      "Error      :  0.0\n",
      "------------------------------------------------------\n",
      "Epoch :  3\n",
      "Result     :  [-1, 1, 1, 1]\n",
      "Error      :  0.0\n",
      "------------------------------------------------------\n",
      "Epoch :  4\n",
      "Result     :  [-1, 1, 1, 1]\n",
      "Error      :  0.0\n",
      "------------------------------------------------------\n"
     ]
    },
    {
     "data": {
      "image/png": "[encoded data removed]",
      "text/plain": [
       "<Figure size 432x288 with 1 Axes>"
      ]
     },
     "metadata": {
      "needs_background": "light"
     },
     "output_type": "display_data"
    }
   ],
   "source": [
    "for i in range(Epoch):\n",
    "    print(\"Epoch : \",i)\n",
    "    perceptron(X,T)\n",
    "    print(\"------------------------------------------------------\")\n",
    "plot_(X,T)"
   ]
  },
  {
   "cell_type": "markdown",
   "id": "75a19d5a-86b5-4ce2-ad82-1bd5393e8062",
   "metadata": {},
   "source": [
    "# Using AND - NOT Gate"
   ]
  },
  {
   "cell_type": "code",
   "execution_count": 213,
   "id": "7890a59b-6e25-4225-a02b-a97b4e68ecd9",
   "metadata": {},
   "outputs": [],
   "source": [
    "X = np.array([[1,1],[1,-1],[-1,1],[-1,-1]])\n",
    "T = np.array([-1,1,-1,-1]) \n",
    "\n",
    "alpha = 1\n",
    "parameters = {\"W1\":0,\"W2\":0,\"b\":0}\n",
    "delta = {\"dW1\":0,\"dW2\":0,\"db\":0}\n",
    "Epoch = 3\n",
    "res = [None] * 4"
   ]
  },
  {
   "cell_type": "code",
   "execution_count": 214,
   "id": "f52babeb-fbc9-4858-a31d-f9e0e7a15dfd",
   "metadata": {},
   "outputs": [
    {
     "name": "stdout",
     "output_type": "stream",
     "text": [
      "Epoch :  0\n",
      "Result     :  [0, -1, -1, 1]\n",
      "Error      :  4.5\n",
      "------------------------------------------------------\n",
      "Epoch :  1\n",
      "Result     :  [1, 1, -1, -1]\n",
      "Error      :  2.0\n",
      "------------------------------------------------------\n",
      "Epoch :  2\n",
      "Result     :  [-1, 1, -1, -1]\n",
      "Error      :  0.0\n",
      "------------------------------------------------------\n"
     ]
    },
    {
     "data": {
      "image/png": "[encoded data removed]",
      "text/plain": [
       "<Figure size 432x288 with 1 Axes>"
      ]
     },
     "metadata": {
      "needs_background": "light"
     },
     "output_type": "display_data"
    }
   ],
   "source": [
    "for i in range(Epoch):\n",
    "    print(\"Epoch : \",i)\n",
    "    perceptron(X,T)\n",
    "    print(\"------------------------------------------------------\")\n",
    "plot_(X,T)"
   ]
  },
  {
   "cell_type": "markdown",
   "id": "5cbc0855-1db9-410c-94dd-f37fb9d944d8",
   "metadata": {},
   "source": [
    "# Using OR Gate"
   ]
  },
  {
   "cell_type": "code",
   "execution_count": 219,
   "id": "a7e4c719-1b0e-4a62-bd84-185b7f107315",
   "metadata": {},
   "outputs": [],
   "source": [
    "X = np.array([[-1,-1],[-1,1],[1,-1],[1,1]])\n",
    "T = np.array([-1,-1,-1,1]) \n",
    "\n",
    "alpha = 1\n",
    "parameters = {\"W1\":1,\"W2\":1,\"b\":0}\n",
    "delta = {\"dW1\":0,\"dW2\":0,\"db\":0}\n",
    "Epoch = 3\n",
    "res = [None] * 4"
   ]
  },
  {
   "cell_type": "code",
   "execution_count": 220,
   "id": "915a6f52-6d24-4bb3-bdc1-03be07b0ed0c",
   "metadata": {},
   "outputs": [
    {
     "name": "stdout",
     "output_type": "stream",
     "text": [
      "Epoch :  0\n",
      "Result     :  [-1, 0, 1, -1]\n",
      "Error      :  4.5\n",
      "------------------------------------------------------\n",
      "Epoch :  1\n",
      "Result     :  [-1, 1, -1, 1]\n",
      "Error      :  2.0\n",
      "------------------------------------------------------\n",
      "Epoch :  2\n",
      "Result     :  [-1, -1, -1, 1]\n",
      "Error      :  0.0\n",
      "------------------------------------------------------\n"
     ]
    },
    {
     "data": {
      "image/png": "[encoded data removed]",
      "text/plain": [
       "<Figure size 432x288 with 1 Axes>"
      ]
     },
     "metadata": {
      "needs_background": "light"
     },
     "output_type": "display_data"
    }
   ],
   "source": [
    "for i in range(Epoch):\n",
    "    print(\"Epoch : \",i)\n",
    "    perceptron(X,T)\n",
    "    print(\"------------------------------------------------------\")\n",
    "plot_(X,T)"
   ]
  },
  {
   "cell_type": "code",
   "execution_count": null,
   "id": "53c993b7-98b9-4363-9948-06f397d3102c",
   "metadata": {},
   "outputs": [],
   "source": []
  }
 ],
 "metadata": {
  "kernelspec": {
   "display_name": "Python 3",
   "language": "python",
   "name": "python3"
  },
  "language_info": {
   "codemirror_mode": {
    "name": "ipython",
    "version": 3
   },
   "file_extension": ".py",
   "mimetype": "text/x-python",
   "name": "python",
   "nbconvert_exporter": "python",
   "pygments_lexer": "ipython3",
   "version": "3.8.8"
  }
 },
 "nbformat": 4,
 "nbformat_minor": 5
}
