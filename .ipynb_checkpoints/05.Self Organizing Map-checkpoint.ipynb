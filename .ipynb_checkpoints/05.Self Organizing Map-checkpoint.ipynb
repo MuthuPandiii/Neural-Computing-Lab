{
 "cells": [
  {
   "cell_type": "code",
   "execution_count": 1,
   "id": "924e1528-c532-4ac5-a831-6d15c472c7bb",
   "metadata": {},
   "outputs": [],
   "source": [
    "import numpy as np"
   ]
  },
  {
   "cell_type": "code",
   "execution_count": 21,
   "id": "236f8ae0-1409-4adf-b341-94462fc92b4a",
   "metadata": {},
   "outputs": [],
   "source": [
    "def winner(sample,weights):\n",
    "    D0 = 0\n",
    "    D1 = 0\n",
    "    \n",
    "    D0 = np.sum((sample - weights[0]) ** 2)\n",
    "    D1 = np.sum((sample - weights[1]) ** 2)\n",
    "    \n",
    "    if D0<D1:\n",
    "        return 0\n",
    "    else:\n",
    "        return 1"
   ]
  },
  {
   "cell_type": "code",
   "execution_count": 22,
   "id": "12105444-ea9b-448e-bfda-e7add7fed3b0",
   "metadata": {},
   "outputs": [],
   "source": [
    "def update_weights(sample,weights,J,alpha):\n",
    "    weights[J] = weights[J] + alpha * (sample - weights[J])\n",
    "    return weights"
   ]
  },
  {
   "cell_type": "code",
   "execution_count": 28,
   "id": "63fe5304-7d07-4177-9a25-459ea91c6596",
   "metadata": {},
   "outputs": [],
   "source": [
    "X = np.array([[0,0,1,1],[1,1,0,1],[1,0,0,1],[0,1,1,1]])\n",
    "weights = np.array([[0.3,0.8,0.1,0.2],[0.2,0.4,0.3,0.7]])\n",
    "\n",
    "epoch = 5\n",
    "learning_rate = 0.5\n",
    "\n",
    "for i in range(epoch):\n",
    "    for j in range(4):\n",
    "        sample = X[j]\n",
    "        J = winner(sample,weights)\n",
    "        weights = update_weights(sample,weights,J,learning_rate)"
   ]
  },
  {
   "cell_type": "code",
   "execution_count": 30,
   "id": "d1c7506f-28f6-4cf8-b2d5-0555f0917c80",
   "metadata": {},
   "outputs": [
    {
     "data": {
      "text/plain": [
       "array([[9.99316406e-01, 3.33789063e-01, 9.76562500e-05, 9.99218750e-01],\n",
       "       [1.95312500e-04, 6.66406250e-01, 9.99316406e-01, 9.99707031e-01]])"
      ]
     },
     "execution_count": 30,
     "metadata": {},
     "output_type": "execute_result"
    }
   ],
   "source": [
    "weights"
   ]
  },
  {
   "cell_type": "code",
   "execution_count": 31,
   "id": "7215ab5e-b3fa-4258-8b19-70b5dd274356",
   "metadata": {},
   "outputs": [],
   "source": [
    "test = np.array([[1,0,1,0]])"
   ]
  },
  {
   "cell_type": "code",
   "execution_count": 33,
   "id": "b51de6be-35b1-4ec9-bd0c-dd46663c0271",
   "metadata": {},
   "outputs": [],
   "source": [
    "class_ = winner(test,weights)"
   ]
  },
  {
   "cell_type": "code",
   "execution_count": 35,
   "id": "2c72bc0f-7a7a-44d0-a619-5297d4b58d7d",
   "metadata": {},
   "outputs": [
    {
     "name": "stdout",
     "output_type": "stream",
     "text": [
      "The test case [[1 0 1 0]] belongs to the Class : 0\n"
     ]
    }
   ],
   "source": [
    "print(f'The test case {test} belongs to the Class : {class_}')"
   ]
  },
  {
   "cell_type": "code",
   "execution_count": null,
   "id": "92990f34-85a5-4524-8287-f2aab6462b5c",
   "metadata": {},
   "outputs": [],
   "source": []
  }
 ],
 "metadata": {
  "kernelspec": {
   "display_name": "Python 3",
   "language": "python",
   "name": "python3"
  },
  "language_info": {
   "codemirror_mode": {
    "name": "ipython",
    "version": 3
   },
   "file_extension": ".py",
   "mimetype": "text/x-python",
   "name": "python",
   "nbconvert_exporter": "python",
   "pygments_lexer": "ipython3",
   "version": "3.8.8"
  }
 },
 "nbformat": 4,
 "nbformat_minor": 5
}
